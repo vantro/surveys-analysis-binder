{
 "cells": [
  {
   "cell_type": "code",
   "execution_count": null,
   "id": "5df27890",
   "metadata": {},
   "outputs": [
    {
     "name": "stdout",
     "output_type": "stream",
     "text": [
      "/Users/eric/Documents/GitHub/surveys-analysis-binder\n"
     ]
    }
   ],
   "source": [
    "import os\n",
    "print(os.getcwd())\n",
    "print('-------------')\n",
    "for subdir, dirs, files in os.walk('./'):\n",
    "    for file in files:\n",
    "      print (file)\n",
    "print('-------------FILES')\n",
    "files = [f for f in os.listdir('.') if os.path.isfile(f)]\n",
    "for f in files:\n",
    "   print(f)\n",
    "print('-------------DIRECTORIES')\n",
    "dirs = [d for d in os.listdir('.') if os.path.isdir(d)]\n",
    "for d in dirs:\n",
    "   print(d)"
   ]
  },
  {
   "cell_type": "code",
   "execution_count": null,
   "id": "25edcd3e",
   "metadata": {},
   "outputs": [],
   "source": []
  }
 ],
 "metadata": {
  "kernelspec": {
   "display_name": "Python 3 (ipykernel)",
   "language": "python",
   "name": "python3"
  },
  "language_info": {
   "codemirror_mode": {
    "name": "ipython",
    "version": 3
   },
   "file_extension": ".py",
   "mimetype": "text/x-python",
   "name": "python",
   "nbconvert_exporter": "python",
   "pygments_lexer": "ipython3",
   "version": "3.10.0"
  }
 },
 "nbformat": 4,
 "nbformat_minor": 5
}
