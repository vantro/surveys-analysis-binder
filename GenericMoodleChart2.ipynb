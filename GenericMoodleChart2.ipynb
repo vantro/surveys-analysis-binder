{
 "cells": [
  {
   "cell_type": "markdown",
   "metadata": {},
   "source": [
    "# Outil de génération des graphiques "
   ]
  },
  {
   "attachments": {},
   "cell_type": "markdown",
   "metadata": {},
   "source": [
    "Ce programme utilise le fichier .CSV généré par un sondage Moodle pour consituer des graphiques."
   ]
  },
  {
   "cell_type": "code",
   "execution_count": 3,
   "metadata": {},
   "outputs": [
    {
     "data": {
      "application/vnd.jupyter.widget-view+json": {
       "model_id": "210285ef6f2f4b9d912b0614ab341d8d",
       "version_major": 2,
       "version_minor": 0
      },
      "text/plain": [
       "HBox(children=(FileUpload(value={}, accept='*.csv', description='Upload', layout=Layout(width='200px')),))"
      ]
     },
     "metadata": {},
     "output_type": "display_data"
    },
    {
     "data": {
      "application/vnd.jupyter.widget-view+json": {
       "model_id": "a583a55e3e954f1b87caea02c3b28020",
       "version_major": 2,
       "version_minor": 0
      },
      "text/plain": [
       "Output()"
      ]
     },
     "metadata": {},
     "output_type": "display_data"
    }
   ],
   "source": [
    "import tlc\n",
    "import ipywidgets as ipw\n",
    "from ipywidgets import Button\n",
    "from IPython.display import HTML\n",
    "from IPython.display import display\n",
    "from IPython.display import FileLink\n",
    "\n",
    "from base64 import b64encode\n",
    "\n",
    "def on_upload_clicked(change):\n",
    "    global pdf_file\n",
    "    uploader.disabled = True\n",
    "    pdf_file = tlc.generate_charts(change)\n",
    "    btn.description = f\"Download {pdf_file}\"\n",
    "    with out:\n",
    "        display(FileLink(pdf_file, result_html_prefix=\"Click here to download: \"))\n",
    "        # display(btn)\n",
    "    uploader.disabled = False\n",
    "\n",
    "def download_data(e=None):\n",
    "    #ici lire le fichier pdf à envoyer en premier parametre\n",
    "    with open(pdf_file, 'rb') as f:\n",
    "        data = b64encode(f.read())\n",
    "    trigger_download(data, pdf_file, kind='application/pdf')\n",
    "\n",
    "def trigger_download(data, filename, kind='text/json'):\n",
    "    # see https://developer.mozilla.org/en-US/docs/Web/HTTP/Basics_of_HTTP/Data_URIs for details\n",
    "    #content_b64 = b64encode(data.encode()).decode()\n",
    "    data_url = f'data:{kind};charset=utf-8;base64,{data}'\n",
    "    js_code = f\"\"\"\n",
    "        var a = document.createElement('a');\n",
    "        a.setAttribute('download', '{filename}');\n",
    "        a.setAttribute('href', '{data_url}');\n",
    "        a.innerHTML = 'Télécharger le fichier PDF';\n",
    "        a.click();\n",
    "    \"\"\"\n",
    "    with out:\n",
    "        display(HTML(f'<script>{js_code}</script>'))\n",
    " \n",
    "\n",
    "pdf_file = ''\n",
    "\n",
    "uploader = ipw.FileUpload(\n",
    "    accept='*.csv',  # Accepted file extension e.g. '.txt', '.pdf', 'image/*', 'image/*,.pdf'\n",
    "    multiple=False,  # True to accept multiple files upload else False\n",
    "    description='Moodle (.csv)',\n",
    "    layout=ipw.Layout(width=\"200px\")\n",
    ")\n",
    "\n",
    "uploader.observe(on_upload_clicked, names='value')\n",
    "\n",
    "display(ipw.HBox([uploader])) \n",
    "out = ipw.Output()\n",
    "btn = Button(description=f'Download {pdf_file}', layout=ipw.Layout(width=\"600px\"))\n",
    "btn.on_click(download_data)\n",
    "display(out)"
   ]
  }
 ],
 "metadata": {
  "kernelspec": {
   "display_name": "Python 3 (ipykernel)",
   "language": "python",
   "name": "python3"
  },
  "language_info": {
   "codemirror_mode": {
    "name": "ipython",
    "version": 3
   },
   "file_extension": ".py",
   "mimetype": "text/x-python",
   "name": "python",
   "nbconvert_exporter": "python",
   "pygments_lexer": "ipython3",
   "version": "3.10.0"
  },
  "vscode": {
   "interpreter": {
    "hash": "aee8b7b246df8f9039afb4144a1f6fd8d2ca17a180786b69acc140d282b71a49"
   }
  }
 },
 "nbformat": 4,
 "nbformat_minor": 2
}
