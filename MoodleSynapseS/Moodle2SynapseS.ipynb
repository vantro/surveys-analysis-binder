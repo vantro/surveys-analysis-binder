{
 "cells": [
  {
   "cell_type": "code",
   "execution_count": 9,
   "id": "2160ba18-ba21-40b6-9930-a7a07f18d4af",
   "metadata": {},
   "outputs": [
    {
     "name": "stdout",
     "output_type": "stream",
     "text": [
      "Saisir le nom du fichier de note Moodle :\n"
     ]
    },
    {
     "name": "stdin",
     "output_type": "stream",
     "text": [
      " Copie de LAB103-2021 Grades_Moodle-1.xlsx\n"
     ]
    },
    {
     "name": "stdout",
     "output_type": "stream",
     "text": [
      "Saisir le nom du fichier Synapses :\n"
     ]
    },
    {
     "name": "stdin",
     "output_type": "stream",
     "text": [
      " Fichier Synapses LAB103 vierge.csv\n"
     ]
    },
    {
     "name": "stdout",
     "output_type": "stream",
     "text": [
      "Les éléments suivants n'étaient pas dans Moodle\n",
      "   Institution First name  Surname                   Email address\n",
      "16         NaN       Jean  Boisson  jean.boisson@polytechnique.edu\n",
      "\n",
      "\n",
      "Le fichier resultat est : LAB103.csv\n"
     ]
    }
   ],
   "source": [
    "import pandas as pd\n",
    "import re\n",
    "import os\n",
    "import csv\n",
    "\n",
    "\n",
    "def LetterToNum(letter,mode='TP'):\n",
    "    if mode == 'X':\n",
    "        # -- X --    \n",
    "        if letter == 'A+':\n",
    "            note = 19\n",
    "        elif letter == 'A':\n",
    "            note = 17\n",
    "        elif letter == 'A-':\n",
    "            note = 15\n",
    "        elif letter == 'B+':\n",
    "            note = 14\n",
    "        elif letter == 'B':\n",
    "            note = 13\n",
    "        elif letter == 'B-':\n",
    "            note = 12\n",
    "        elif letter == 'C':\n",
    "            note = 11\n",
    "        elif letter == 'D':\n",
    "            note = 9\n",
    "        elif letter == 'E':\n",
    "            note = 7\n",
    "        elif letter == 'F':\n",
    "            note = 0\n",
    "        else:\n",
    "            note = None\n",
    "    else:\n",
    "        # -- Telecom --\n",
    "        if letter == 'A+':\n",
    "            note = 17.1\n",
    "        elif letter == 'A':\n",
    "            note = 16.9\n",
    "        elif letter == 'A-':\n",
    "            note = 13.9\n",
    "        elif letter == 'B+':\n",
    "            note = 13.9\n",
    "        elif letter == 'B':\n",
    "            note = 12.9\n",
    "        elif letter == 'B-':\n",
    "            note = 10.9\n",
    "        elif letter == 'C':\n",
    "            note = 9.9\n",
    "        elif letter == 'D':\n",
    "            note = 7.9\n",
    "        elif letter == 'E':\n",
    "            note = 5\n",
    "        elif letter == 'F':\n",
    "            note = 0\n",
    "        else:\n",
    "            note = None\n",
    "    return note\n",
    "\n",
    "MoodleFile = 'Copie de LAB103-2021 Grades_Moodle-1.xlsx'\n",
    "SynapseSFile = 'Fichier Synapses LAB103 vierge.csv'\n",
    "\n",
    "print(\"Saisir le nom du fichier de note Moodle :\")\n",
    "MoodleFile = input()\n",
    "print(\"Saisir le nom du fichier Synapses :\")\n",
    "SynapseSFile = input()\n",
    "\n",
    "dfMoodle = pd.read_excel(MoodleFile) \n",
    "dfSynapses = pd.read_csv(SynapseSFile,delimiter=';', encoding='utf-8-sig',skiprows=1, on_bad_lines='skip')\n",
    "\n",
    "s1 = dfSynapses['Matricule']\n",
    "s2 = dfMoodle['Institution']\n",
    "intersection = pd.Series(list(set(s1) & set(s2)))\n",
    "\n",
    "print(\"Les éléments suivants n'étaient pas dans Moodle\")\n",
    "print(dfMoodle[['Institution','First name','Surname','Email address']][~dfMoodle['Institution'].isin(intersection)])\n",
    "\n",
    "dfMoodle['Course letter grade (Real)'].loc[dfMoodle['Institution'] == 'B210305']\n",
    "\n",
    "for e in intersection:\n",
    "    #print(dfMoodle.loc[dfMoodle['Institution'] == e]['Course letter grade (Real)'].values[0],'->',LetterToNum(dfMoodle.loc[dfMoodle['Institution'] == e]['Course letter grade (Real)'].values[0]))\n",
    "    dfSynapses.at[dfSynapses['Matricule'] == e,'Note initiale'] = LetterToNum(dfMoodle.loc[dfMoodle['Institution'] == e]['Course letter grade (Real)'].values[0])\n",
    "   \n",
    "# on écrit le csv\n",
    "dfSynapses.to_csv('out.csv',sep=';', encoding='utf-8', index=False)\n",
    "\n",
    "with open(\"Fichier Synapses LAB103 vierge.csv\",'r', encoding='utf-8-sig') as original:\n",
    "    lines = []\n",
    "    for line in original:\n",
    "        lines.append(line)\n",
    "\n",
    "with open(\"out.csv\",'r') as csv:\n",
    "    csvlines = []\n",
    "    for line in csv:\n",
    "        csvlines.append(line)\n",
    "\n",
    "cours = lines[0].split(';')[0]        \n",
    "        \n",
    "with open (f'{cours}.csv', 'w', encoding='utf-8-sig') as fp:\n",
    "    fp.write(lines[0])\n",
    "    for l in csvlines:\n",
    "        fp.write(l)\n",
    "        \n",
    "os.remove('out.csv')\n",
    "print(f'\\n\\nLe fichier resultat est : {cours}.csv')"
   ]
  },
  {
   "cell_type": "code",
   "execution_count": null,
   "id": "362a652c-05f0-4eee-bf73-4469e771ddfd",
   "metadata": {},
   "outputs": [],
   "source": []
  }
 ],
 "metadata": {
  "kernelspec": {
   "display_name": "Python 3",
   "language": "python",
   "name": "python3"
  },
  "language_info": {
   "codemirror_mode": {
    "name": "ipython",
    "version": 3
   },
   "file_extension": ".py",
   "mimetype": "text/x-python",
   "name": "python",
   "nbconvert_exporter": "python",
   "pygments_lexer": "ipython3",
   "version": "3.9.6"
  }
 },
 "nbformat": 4,
 "nbformat_minor": 5
}
